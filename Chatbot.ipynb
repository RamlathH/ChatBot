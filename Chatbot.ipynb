{
  "cells": [
    {
      "cell_type": "markdown",
      "metadata": {
        "id": "view-in-github",
        "colab_type": "text"
      },
      "source": [
        "<a href=\"https://colab.research.google.com/github/RamlathH/ChatBot/blob/main/Chatbot.ipynb\" target=\"_parent\"><img src=\"https://colab.research.google.com/assets/colab-badge.svg\" alt=\"Open In Colab\"/></a>"
      ]
    },
    {
      "cell_type": "code",
      "execution_count": null,
      "metadata": {
        "id": "V4lAzycCnlpk"
      },
      "outputs": [],
      "source": [
        "import numpy as np \n",
        "import nltk\n",
        "import string\n",
        "import random \n"
      ]
    },
    {
      "cell_type": "markdown",
      "metadata": {
        "id": "6ts8Q2ZeoLhQ"
      },
      "source": [
        "# Importting and reading corpus\n"
      ]
    },
    {
      "cell_type": "code",
      "execution_count": null,
      "metadata": {
        "colab": {
          "base_uri": "https://localhost:8080/"
        },
        "id": "qV4LC2qJoDPu",
        "outputId": "315b3754-26d4-4358-e3df-9e126808edcd"
      },
      "outputs": [
        {
          "name": "stdout",
          "output_type": "stream",
          "text": [
            "[nltk_data] Downloading package punkt to /root/nltk_data...\n",
            "[nltk_data]   Package punkt is already up-to-date!\n",
            "[nltk_data] Downloading package wordnet to /root/nltk_data...\n",
            "[nltk_data]   Package wordnet is already up-to-date!\n"
          ]
        }
      ],
      "source": [
        "f=open('chatbot.txt','r',errors='ignore')\n",
        "raw_doc=f.read()\n",
        "raw_doc=raw_doc.lower()#convert text to lowercase\n",
        "nltk.download('punkt')#use the punkt tokenizer\n",
        "nltk.download('wordnet')#using the wordnet dictionary\n",
        "sent_tokens=nltk.sent_tokenize(raw_doc)#converts doc to list of sentences\n",
        "word_tokens=nltk.word_tokenize(raw_doc)#converts doc to list of words\n"
      ]
    },
    {
      "cell_type": "markdown",
      "metadata": {
        "id": "AeFZYEErp_mY"
      },
      "source": [
        ""
      ]
    },
    {
      "cell_type": "markdown",
      "metadata": {
        "id": "SPHGD4R-oIqc"
      },
      "source": [
        "#Ex of sentence tokens\n"
      ]
    },
    {
      "cell_type": "code",
      "execution_count": null,
      "metadata": {
        "colab": {
          "base_uri": "https://localhost:8080/"
        },
        "id": "01lIwWOqoDZe",
        "outputId": "d7460fb5-5040-440f-aa99-3a6b4831bae2"
      },
      "outputs": [
        {
          "data": {
            "text/plain": [
              "['data science\\nfrom wikipedia, the free encyclopedia\\njump to navigationjump to search\\nnot to be confused with information science.',\n",
              " 'the existence of comet neowise (here depicted as a series of red dots) was discovered by analyzing astronomical survey data acquired by a space telescope, the wide-field infrared survey explorer.']"
            ]
          },
          "execution_count": 38,
          "metadata": {},
          "output_type": "execute_result"
        }
      ],
      "source": [
        "sent_tokens[:2]"
      ]
    },
    {
      "cell_type": "code",
      "execution_count": null,
      "metadata": {
        "colab": {
          "base_uri": "https://localhost:8080/"
        },
        "id": "7C6iC2PdoDdE",
        "outputId": "def0f839-08c8-4ecc-df5d-1700d8269a9f"
      },
      "outputs": [
        {
          "data": {
            "text/plain": [
              "['data', 'science']"
            ]
          },
          "execution_count": 39,
          "metadata": {},
          "output_type": "execute_result"
        }
      ],
      "source": [
        "word_tokens[:2]"
      ]
    },
    {
      "cell_type": "markdown",
      "metadata": {
        "id": "PWhRMt8Xq_tg"
      },
      "source": [
        "# Text Preprocessing\n"
      ]
    },
    {
      "cell_type": "code",
      "execution_count": null,
      "metadata": {
        "id": "uUIZ61FkoDgD"
      },
      "outputs": [],
      "source": [
        "lemmer=nltk.stem.WordNetLemmatizer()\n",
        "#wordnet is a semantically- oriented dictionary of english included in NLTK\n",
        "def LemTokens(tokens):\n",
        "  return [lemmer.lemmatize(token) for token in tokens]\n",
        "remove_punct_dict=dict((ord(punct), None) for punct in string.punctuation)\n",
        "def LemNormalize(text):\n",
        "  return LemTokens(nltk.word_tokenize(text.lower().translate(remove_punct_dict)))\n",
        "\n"
      ]
    },
    {
      "cell_type": "markdown",
      "metadata": {
        "id": "GYNRHqB6slhw"
      },
      "source": [
        "DEFINING the greeting function\n"
      ]
    },
    {
      "cell_type": "code",
      "execution_count": null,
      "metadata": {
        "id": "iZx-0s5OoDi9"
      },
      "outputs": [],
      "source": [
        "GREET_INPUTS =(\"hello\", \"Hi\",\"greetings\",\"sup\",\"what's up\",\"hey\")\n",
        "GREET_RESPONSES=[\"hi\",\"hey\", \"*nods*\",\"hi there\", \"hello\", \"I am glad! You are talking to me \"]\n",
        "def greet(sentence):\n",
        "  for word in sentence.split():\n",
        "    if word.lower() in GREET_INPUTS:\n",
        "      return random.choice(GREET_RESPONSES)\n",
        "      "
      ]
    },
    {
      "cell_type": "markdown",
      "metadata": {
        "id": "31oLimITt1fy"
      },
      "source": [
        "Response generation\n"
      ]
    },
    {
      "cell_type": "code",
      "execution_count": null,
      "metadata": {
        "id": "nz9tAOzxoDmD"
      },
      "outputs": [],
      "source": [
        "from sklearn.feature_extraction.text import TfidfVectorizer#team frequency inverse freq where how many words are repeated in corpse\n",
        "from sklearn.metrics.pairwise import cosine_similarity#inverse freq is check how rare the word is \n",
        "# normalize the vectors to check the machine understands it \n"
      ]
    },
    {
      "cell_type": "code",
      "execution_count": null,
      "metadata": {
        "id": "dI1klKogoDpa"
      },
      "outputs": [],
      "source": [
        "def response(user_response):\n",
        "  robo1_response=\"\"\n",
        "  TfidVec= TfidfVectorizer(tokenizer=LemNormalize, stop_words='english')\n",
        "  tfidf=TfidVec.fit_transform(sent_tokens)\n",
        "  vals=cosine_similarity(tfidf[-1],tfidf)\n",
        "  idx=vals.argsort()[0][-2]\n",
        "  flat=vals.flatten()\n",
        "  flat.sort()\n",
        "  req_tfidf=flat[-2]\n",
        "  if(req_tfidf==0):\n",
        "    robo1_response=robo1_response+\"I am sorry! I dont understand you \"\n",
        "    return robo1_response\n",
        "  else:\n",
        "    robo1_response =robo1_response+sent_tokens[idx]\n",
        "    return robo1_response\n"
      ]
    },
    {
      "cell_type": "markdown",
      "metadata": {
        "id": "aFPS4kZOxo9A"
      },
      "source": [
        "defining conversation start/end protocols\n"
      ]
    },
    {
      "cell_type": "code",
      "execution_count": null,
      "metadata": {
        "colab": {
          "background_save": true,
          "base_uri": "https://localhost:8080/"
        },
        "id": "ZxhaHFqroDsA",
        "outputId": "03d998e3-4d6a-42fd-bb86-5f889fa5022e"
      },
      "outputs": [
        {
          "name": "stdout",
          "output_type": "stream",
          "text": [
            "BOT: My name is Stark. Let's have a conversation. if you want to exit just type BYE!\n",
            "BOT: "
          ]
        },
        {
          "name": "stderr",
          "output_type": "stream",
          "text": [
            "/usr/local/lib/python3.7/dist-packages/sklearn/feature_extraction/text.py:401: UserWarning: Your stop_words may be inconsistent with your preprocessing. Tokenizing the stop words generated tokens ['ha', 'le', 'u', 'wa'] not in stop_words.\n",
            "  % sorted(inconsistent)\n"
          ]
        },
        {
          "name": "stdout",
          "output_type": "stream",
          "text": [
            "I am sorry! I dont understand you \n",
            "BOT:I am glad! You are talking to me \n"
          ]
        },
        {
          "name": "stderr",
          "output_type": "stream",
          "text": [
            "/usr/local/lib/python3.7/dist-packages/sklearn/feature_extraction/text.py:401: UserWarning: Your stop_words may be inconsistent with your preprocessing. Tokenizing the stop words generated tokens ['ha', 'le', 'u', 'wa'] not in stop_words.\n",
            "  % sorted(inconsistent)\n"
          ]
        },
        {
          "name": "stdout",
          "output_type": "stream",
          "text": [
            "BOT: \"data science\".\n"
          ]
        }
      ],
      "source": [
        "flag=True\n",
        "print(\"BOT: My name is Stark. Let's have a conversation. if you want to exit just type BYE!\")\n",
        "while(flag==True):\n",
        "  user_response=input()\n",
        "  user_response= user_response.lower()\n",
        "  if(user_response!='bye'):\n",
        "    if(user_response=='thanks' or user_response=='thank you'):\n",
        "      flag=False\n",
        "      print(\"BOT: You are Welcome\")\n",
        "    else:\n",
        "      if(greet(user_response)!=None):\n",
        "          print(\"BOT:\" + greet(user_response))\n",
        "      else:\n",
        "        sent_tokens.append(user_response)\n",
        "        word_tokens=word_tokens+nltk.word_tokenize(user_response)\n",
        "        final_words=list(set(word_tokens))\n",
        "        print(\"BOT: \", end='')\n",
        "        print(response(user_response))\n",
        "        sent_tokens.remove(user_response)\n",
        "  else:\n",
        "    flag=False\n",
        "    print(\"BOT: GoodBye! Take Care<3 \")\n",
        "\n"
      ]
    },
    {
      "cell_type": "code",
      "execution_count": null,
      "metadata": {
        "id": "AJk8fg8soDu1"
      },
      "outputs": [],
      "source": [
        ""
      ]
    },
    {
      "cell_type": "code",
      "execution_count": null,
      "metadata": {
        "id": "56U1971_oDxh"
      },
      "outputs": [],
      "source": [
        ""
      ]
    }
  ],
  "metadata": {
    "colab": {
      "collapsed_sections": [],
      "name": "Chatbot.ipynb",
      "provenance": [],
      "authorship_tag": "ABX9TyP2KTRwfxnILw2J9hP+ltdG",
      "include_colab_link": true
    },
    "kernelspec": {
      "display_name": "Python 3",
      "name": "python3"
    },
    "language_info": {
      "name": "python"
    }
  },
  "nbformat": 4,
  "nbformat_minor": 0
}